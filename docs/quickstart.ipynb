{
 "cells": [
  {
   "cell_type": "markdown",
   "id": "7f26a335-cf1c-4e69-be3b-0c26b154606a",
   "metadata": {},
   "source": [
    "# Quickstart"
   ]
  },
  {
   "cell_type": "code",
   "execution_count": null,
   "id": "07aac587",
   "metadata": {},
   "outputs": [],
   "source": [
    "!lamin init --storage run-tests --modules bionty"
   ]
  },
  {
   "cell_type": "code",
   "execution_count": null,
   "id": "18aa30d9",
   "metadata": {},
   "outputs": [],
   "source": [
    "import lamindb as ln\n",
    "import pandas as pd\n",
    "import numpy as np\n",
    "\n",
    "ln.track()"
   ]
  },
  {
   "cell_type": "code",
   "execution_count": null,
   "id": "01a61e9b",
   "metadata": {},
   "outputs": [],
   "source": [
    "df = pd.DataFrame({\"a\": np.arange(0, 10)})\n",
    "\n",
    "af = ln.Artifact.from_df(df, description=\"test\").save()"
   ]
  },
  {
   "cell_type": "code",
   "execution_count": null,
   "id": "728ac9b5",
   "metadata": {},
   "outputs": [],
   "source": [
    "!rm -r run-tests\n",
    "!lamin delete --force run-tests"
   ]
  }
 ],
 "metadata": {
  "kernelspec": {
   "display_name": "lamindb",
   "language": "python",
   "name": "python3"
  },
  "language_info": {
   "codemirror_mode": {
    "name": "ipython",
    "version": 3
   },
   "file_extension": ".py",
   "mimetype": "text/x-python",
   "name": "python",
   "nbconvert_exporter": "python",
   "pygments_lexer": "ipython3",
   "version": "3.12.8"
  }
 },
 "nbformat": 4,
 "nbformat_minor": 5
}
